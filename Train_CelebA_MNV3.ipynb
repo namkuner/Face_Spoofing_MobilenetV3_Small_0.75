{
 "cells": [
  {
   "cell_type": "code",
   "execution_count": null,
   "id": "initial_id",
   "metadata": {
    "collapsed": true
   },
   "outputs": [],
   "source": [
    "!pip install huggingface_hub\n",
    "!pip install huggingface_hub[hf_transfer]"
   ]
  },
  {
   "metadata": {},
   "cell_type": "code",
   "outputs": [],
   "execution_count": null,
   "source": [
    "import os\n",
    "os.environ['HF_HUB_ENABLE_HF_TRANSFER'] = '1'\n",
    "from huggingface_hub import snapshot_download\n",
    "snapshot_download(repo_id=\"namkuner/CelebA-Spoof-Dataset\", repo_type=\"dataset\",local_dir=\"/workspace\")"
   ],
   "id": "28291b36fae5ced1"
  },
  {
   "metadata": {},
   "cell_type": "code",
   "outputs": [],
   "execution_count": null,
   "source": "!cat data/part_* > celeb_spoofing.zip",
   "id": "54a78925ddd6e490"
  },
  {
   "metadata": {},
   "cell_type": "code",
   "outputs": [],
   "execution_count": null,
   "source": "!sudo apt install unzip",
   "id": "241c0ae4b0d310e7"
  },
  {
   "metadata": {},
   "cell_type": "code",
   "outputs": [],
   "execution_count": null,
   "source": "!unzip /workspace/celeb_spoofing.zip",
   "id": "c7d7a0dc8fc1e9a5"
  },
  {
   "metadata": {},
   "cell_type": "code",
   "outputs": [],
   "execution_count": null,
   "source": "!python train --config /configs/config_small_075.py",
   "id": "c093009eeb7fff3e"
  }
 ],
 "metadata": {
  "kernelspec": {
   "display_name": "Python 3",
   "language": "python",
   "name": "python3"
  },
  "language_info": {
   "codemirror_mode": {
    "name": "ipython",
    "version": 2
   },
   "file_extension": ".py",
   "mimetype": "text/x-python",
   "name": "python",
   "nbconvert_exporter": "python",
   "pygments_lexer": "ipython2",
   "version": "2.7.6"
  }
 },
 "nbformat": 4,
 "nbformat_minor": 5
}
